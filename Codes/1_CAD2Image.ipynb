{
 "cells": [
  {
   "cell_type": "markdown",
   "id": "83dc179b-0b8c-49b7-82bd-889b55654e89",
   "metadata": {},
   "source": [
    "# Converting CAD Step file into Images"
   ]
  },
  {
   "cell_type": "code",
   "execution_count": 1,
   "id": "30c52d5c-62eb-47c2-9d7c-a9ecb471957e",
   "metadata": {},
   "outputs": [],
   "source": [
    "import os\n",
    "from OCC.Display.SimpleGui import init_display\n",
    "from OCC.Extend.DataExchange import read_step_file\n",
    "from OCC.Core.AIS import AIS_Shape\n",
    "from OCC.Core.Quantity import Quantity_Color, Quantity_TOC_RGB\n",
    "from OCC.Core.Aspect import Aspect_TOL_SOLID, Aspect_TypeOfLine\n",
    "from OCC.Core.Prs3d import Prs3d_LineAspect\n",
    "from OCC.Core.V3d import V3d_PositionalLight, V3d_TypeOfOrientation\n",
    "from OCC.Core.Graphic3d import Graphic3d_RenderingParams\n",
    "from OCC.Core.TopoDS import TopoDS_Shape\n",
    "from OCC.Core.BRep import BRep_Builder\n",
    "from OCC.Core.BRepTools import breptools"
   ]
  },
  {
   "cell_type": "code",
   "execution_count": 2,
   "id": "997bdd10-8fd0-460a-aad0-c6082ab6e1ce",
   "metadata": {},
   "outputs": [],
   "source": [
    "def save_view_as_image(display, filename, camera_position):\n",
    "    \"\"\" Save the current view from display to an image file. \"\"\"\n",
    "    display.View.SetProj(camera_position[0], camera_position[1], camera_position[2])\n",
    "    display.FitAll()\n",
    "    display.View.Dump(filename)  # Captures the view into an image file\n"
   ]
  },
  {
   "cell_type": "code",
   "execution_count": 3,
   "id": "8b8ca7b5-d896-4a85-b33c-f44a8fc40a02",
   "metadata": {},
   "outputs": [],
   "source": [
    "def setup_and_save_images(step_file, output_dir, edge_color=None, line_width=2.0, transparency=0.8):\n",
    "    # Initialize display\n",
    "    display, start_display, add_menu, add_function_to_menu = init_display()\n",
    "\n",
    "    # Load STEP file\n",
    "    shape = read_step_file(step_file)\n",
    "\n",
    "    # Create an AIS_Shape to manipulate visual properties\n",
    "    ais_shape = AIS_Shape(shape)\n",
    "    display.Context.Display(ais_shape, True)\n",
    "\n",
    "    # Adjust width and transparency\n",
    "    ais_shape.SetWidth(line_width)\n",
    "    ais_shape.SetTransparency(transparency)\n",
    "\n",
    "\n",
    "    # Set edge color and line width for better contrast\n",
    "    # if edge_color:\n",
    "    #     edge_color_obj = Quantity_Color(edge_color[0], edge_color[1], edge_color[2], Quantity_TOC_RGB)\n",
    "    # else:\n",
    "    #     edge_color_obj = Quantity_Color(0, 0, 0, Quantity_TOC_RGB)  # Default to black if not specified\n",
    "\n",
    "    # line_aspect = Prs3d_LineAspect(edge_color_obj, Aspect_TypeOfLine.Aspect_TOL_SOLID, line_width)\n",
    "    # ais_shape.Attributes().SetLineAspect(line_aspect)\n",
    "\n",
    "    \n",
    "    # Update the context to apply new styles\n",
    "    display.Context.UpdateCurrentViewer()\n",
    "\n",
    "    # Get the CAD part name from the STEP file name\n",
    "    cad_part_name = os.path.splitext(os.path.basename(step_file))[0]\n",
    "\n",
    "    # Camera positions for different views\n",
    "    views = {\n",
    "        'view_1': (1, 1, 1),\n",
    "        'view_2': (-1, -1, 1),\n",
    "        'view_3': (-1, 1, -1),\n",
    "    }\n",
    "\n",
    "    # Save views to images\n",
    "    for view_name, camera_position in views.items():\n",
    "        output_filename = os.path.join(output_dir, f\"{cad_part_name}_{view_name}.png\")\n",
    "        save_view_as_image(display, output_filename, camera_position)"
   ]
  },
  {
   "cell_type": "code",
   "execution_count": 4,
   "id": "bb9b23e5-81f7-4d77-9ebe-7284c7bd8db0",
   "metadata": {},
   "outputs": [],
   "source": [
    "def batch_process_step_files(step_folder, output_folder):\n",
    "    # Get the list of STEP files in the folder\n",
    "    step_files = [os.path.join(step_folder, f) for f in os.listdir(step_folder) if f.endswith('.step') or f.endswith('.stp') or f.endswith('.STEP')]\n",
    "\n",
    "    # Process each STEP file\n",
    "    for step_file in step_files:\n",
    "        # setup_and_save_images(step_file, output_folder)\n",
    "        setup_and_save_images(step_file, output_folder, line_width=1.5, transparency=0)"
   ]
  },
  {
   "cell_type": "code",
   "execution_count": 5,
   "id": "5d1001bd-a562-49d7-acc2-2805b5e218a7",
   "metadata": {},
   "outputs": [],
   "source": [
    "# Define the paths\n",
    "current_dir = os.getcwd()\n",
    "step_folder = os.path.join(current_dir, '..', 'Test_Cases_STEP_Files_2')\n",
    "output_folder = os.path.join(current_dir, \"..\", 'Test_Cases_STEP_Images_2')\n",
    "\n",
    "# Create the output folder if it doesn't exist\n",
    "os.makedirs(output_folder, exist_ok=True)"
   ]
  },
  {
   "cell_type": "code",
   "execution_count": 6,
   "id": "1a0f7211-6c57-48eb-98eb-4cb964d8aad7",
   "metadata": {},
   "outputs": [],
   "source": [
    "single_file = os.path.join(step_folder, \"easy_18.STEP\")\n",
    "# setup_and_save_images(single_file, output_folder, line_width=2.0, transparency=0.001)"
   ]
  },
  {
   "cell_type": "code",
   "execution_count": 7,
   "id": "52356bae-88e8-4aa1-8353-5061887296bf",
   "metadata": {
    "scrolled": true
   },
   "outputs": [
    {
     "ename": "",
     "evalue": "",
     "output_type": "error",
     "traceback": [
      "\u001b[1;31mThe Kernel crashed while executing code in the current cell or a previous cell. \n",
      "\u001b[1;31mPlease review the code in the cell(s) to identify a possible cause of the failure. \n",
      "\u001b[1;31mClick <a href='https://aka.ms/vscodeJupyterKernelCrash'>here</a> for more info. \n",
      "\u001b[1;31mView Jupyter <a href='command:jupyter.viewOutput'>log</a> for further details."
     ]
    }
   ],
   "source": [
    "# Batch process the STEP files\n",
    "batch_process_step_files(step_folder, output_folder)"
   ]
  }
 ],
 "metadata": {
  "kernelspec": {
   "display_name": "Python 3 (ipykernel)",
   "language": "python",
   "name": "python3"
  },
  "language_info": {
   "codemirror_mode": {
    "name": "ipython",
    "version": 3
   },
   "file_extension": ".py",
   "mimetype": "text/x-python",
   "name": "python",
   "nbconvert_exporter": "python",
   "pygments_lexer": "ipython3",
   "version": "3.10.9"
  }
 },
 "nbformat": 4,
 "nbformat_minor": 5
}
